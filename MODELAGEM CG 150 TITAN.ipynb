{
 "cells": [
  {
   "cell_type": "markdown",
   "id": "09e465ea",
   "metadata": {},
   "source": [
    "# APLICAÇÃO DO MODELO DE LIBERAÇÃO FINITA DE CALOR PARA O MOTOR HONDA CG 150 TITAN"
   ]
  },
  {
   "cell_type": "code",
   "execution_count": 3,
   "id": "8d42ca41",
   "metadata": {},
   "outputs": [],
   "source": [
    "import math as m\n",
    "import numpy as np\n",
    "import matplotlib.pyplot as plot"
   ]
  },
  {
   "cell_type": "code",
   "execution_count": 4,
   "id": "2318cfad",
   "metadata": {},
   "outputs": [],
   "source": [
    "#dados\n",
    "theta_d =m.radians(30) #duração da combustão\n",
    "theta_s =m.radians(-8) #início da fagulha da vela\n",
    "a = 5 #parâmetro de Weib\n",
    "n = 3 #parâmetro de Weib\n",
    "T_i = 300 #tempeatura inicial\n",
    "P_i = 101325 #pressão inicial\n",
    "M = 29 \n",
    "s = 57.8 #curso do pistão\n",
    "b = 57.3 #diâmetro do cilíndro \n",
    "l = 96 #comprimento da biela\n",
    "r = 9.5 #taxa de compressão\n",
    "gamma = 1.4 #razão de calores específicos "
   ]
  },
  {
   "cell_type": "code",
   "execution_count": 52,
   "id": "124d2507",
   "metadata": {},
   "outputs": [],
   "source": [
    "g = -1.2*y + 7*m.exp(-0.3*x) #EDO para teste do modelo rk4\n",
    "\n",
    "\n",
    "#método de runge-kutta\n",
    "def rk4(a,b,h,y0,g):\n",
    "    x = []\n",
    "    for i in np.arange(a,b,h):\n",
    "        x.append(i)\n",
    "        n = len(x)\n",
    "        for i in np.arange(1,n-1):\n",
    "            if i==1:\n",
    "                j = y0\n",
    "            else:\n",
    "                j = i\n",
    "            k1 = g(i, j)\n",
    "            k2 = g(i + (h/2),j + k1*(h/2))\n",
    "            k3 = g(i + (h/2),j + k2*(h/2))\n",
    "            k4 = g(i + h,j + k3*h)\n",
    "            k = (1/6)*(k1 + 2*k2 + 2*k3 + k4)\n",
    "            return \n",
    "\n",
    "\n",
    "\n"
   ]
  },
  {
   "cell_type": "code",
   "execution_count": 6,
   "id": "169511e5",
   "metadata": {},
   "outputs": [
    {
     "name": "stdout",
     "output_type": "stream",
     "text": [
      "3.4000000000000004\n",
      "1.8742044042998698\n",
      "2.331943083009909\n",
      "1.0257899851694594\n",
      "2.139680826631503\n",
      "0.25\n"
     ]
    }
   ],
   "source": [
    "h=0.5\n",
    "i=0\n",
    "j=3\n",
    "k1 = g(i, j)\n",
    "k2 = g(i + (h/2),j + k1*(h/2))\n",
    "k3 = g(i + (h/2),j + k2*(h/2))\n",
    "k4 = g(i + h,j + k3*h)\n",
    "k = (1/6)*(k1 + 2*k2 + 2*k3 + k4)\n",
    "print(k1)\n",
    "print(k2)\n",
    "print(k3)\n",
    "print(k4)\n",
    "print(k)\n",
    "print(h/2)\n",
    "\n"
   ]
  },
  {
   "cell_type": "markdown",
   "id": "0fb50d26",
   "metadata": {},
   "source": [
    "# Módelo de liberação finita de calor"
   ]
  },
  {
   "cell_type": "markdown",
   "id": "ba0bb5aa",
   "metadata": {},
   "source": [
    "    No modelo de liberação finita de calor tem-se que: a fração de liberação de calor, em função do ângulo do vira brequim, para um ciclo Otto, é dada por:\n",
    "    \n",
    "<img src=\"eqmod1.JPG\">\n",
    "\n",
    "    Onde theta_s e theta_d representam o ângulo de início da combustão e o ângulo de duração da combustão, respecivamente(tais dados são encontrados no manual de serviço do veículo cujo o motor de estudo pertence).\n",
    "    A derivada de tal função em theta representa, do ponto de vista físico, a taxa de variação da queima de combustível, amesma é dada por:\n",
    "    \n",
    "<img src=\"eqmod2.JPG\">"
   ]
  },
  {
   "cell_type": "code",
   "execution_count": 33,
   "id": "58ebfb55",
   "metadata": {},
   "outputs": [
    {
     "data": {
      "image/png": "[encoded data removed]",
      "text/plain": [
       "<Figure size 432x288 with 1 Axes>"
      ]
     },
     "metadata": {
      "needs_background": "light"
     },
     "output_type": "display_data"
    },
    {
     "data": {
      "image/png": "[encoded data removed]",
      "text/plain": [
       "<Figure size 432x288 with 1 Axes>"
      ]
     },
     "metadata": {
      "needs_background": "light"
     },
     "output_type": "display_data"
    }
   ],
   "source": [
    "theta = np.linspace(m.radians(-8),m.radians(180),1000)\n",
    "def eq1(a,b,c,d,e): #equação da fração de liberação de calor\n",
    "    return 1 - m.e**(-a*((b - c)/d)**e) #a = a; b = theta;c = theta_s;d = theta_d; e = n\n",
    "def eq2(a,b,c,d,e): #derivada da equação anterior\n",
    "    return ((a*e)/d)*((b - c)/d)**(e-1)*m.e**(-a*((b-c)/d)**e) #a = a; b = theta;c = theta_s;d = theta_d; e = n\n",
    "\n",
    "xcb = eq1(a,theta,theta_s,theta_d,n)\n",
    "xcb_ponto = eq2(a,theta,theta_s,theta_d,n)\n",
    "plot.figure()\n",
    "plot.plot(theta,xcb)\n",
    "plot.show()\n",
    "plot.figure()\n",
    "plot.plot(theta,xcb_ponto)\n",
    "plot.show()\n",
    "\n"
   ]
  },
  {
   "cell_type": "markdown",
   "id": "9ae125da",
   "metadata": {},
   "source": [
    "# A química da combustão "
   ]
  },
  {
   "cell_type": "markdown",
   "id": "73f67b18",
   "metadata": {},
   "source": [
    "    Uma equação de combustão padrão é dada pela seguinte fórmula química:\n",
    "    \n",
    "<img src=\"eqquim.JPG\">\n",
    "    \n",
    "    Para o caso da combustão da gasolina C8H18, tem-se que:\n",
    "        x = 8\n",
    "        y = 18\n",
    "        z = d = 0"
   ]
  },
  {
   "cell_type": "code",
   "execution_count": 8,
   "id": "e24a0a5c",
   "metadata": {},
   "outputs": [],
   "source": [
    "x = 8\n",
    "y = 18\n",
    "z = 0\n",
    "d = z\n",
    "\n",
    "n1 = x #coeficiente estequiométrico referente ao dioxido de carbono \n",
    "n2 = y/2 #coeficiente estequiométrico referente ao vapor d`água\n",
    "alpha = a + (y/4) - (z/2) #coeficiente estequiométrico referente ao ar\n",
    "n3 = (d + 2*3.76*alpha)/2 #coeficiente estequiométrico referente ao gás nitrogenio\n",
    "\n",
    "\n",
    "\n",
    "\n",
    "\n",
    "\n"
   ]
  },
  {
   "cell_type": "markdown",
   "id": "60c90c61",
   "metadata": {},
   "source": [
    "    A razão ar/combustível pode, então, ser determinada conhecendo o número de mols da mistura e a massa molar dos elementos químicos, disponíveis na tabela periódica.\n",
    "\n",
    "<img src=\"eqquim2.JPG\">\n",
    "\n",
    "    A tabela periódica é então exibida a seguir:\n",
    "   \n",
    "<img src=\"tabper.JPG\">"
   ]
  },
  {
   "cell_type": "code",
   "execution_count": 13,
   "id": "e2bc890a",
   "metadata": {},
   "outputs": [],
   "source": [
    "M_C = 12 #massa molar em kg/mol\n",
    "M_O = 16 #massa molar em kg/mol\n",
    "M_H = 1 #massa molar em kg/mol\n",
    "M_N = 14 #massa molar em kg/mol\n",
    "\n",
    "M_ar = (2*M_O + 3.76*M_N)\n",
    "\n",
    "AC_s = alpha*M_ar/(x*M_C + y*M_H)\n"
   ]
  },
  {
   "cell_type": "markdown",
   "id": "4432cfcb",
   "metadata": {},
   "source": [
    "    A massa de ar estequiométrico é dada considerando-se o mesmo como gás ideal, mediante a equação dos gases perfeitos\n",
    "    \n",
    "<img src=\"eqquim3.JPG\">\n",
    "\n",
    "    Onde Ru é a constante universal dos gases, para o ar assume o valor de 8.31 J/mol*K. O volume da equação é o volume do cilíndro no PMI, onde todas as variáveis são conhecidas, o mesmo é dado pelo produto da área da base do pistão pelo curso do motor"
   ]
  },
  {
   "cell_type": "code",
   "execution_count": 15,
   "id": "ffd830d5",
   "metadata": {},
   "outputs": [],
   "source": [
    "V_1 = (m.pi*b**2*s)/4\n",
    "Ru = 8.31\n",
    "m_ars = (P_i*V_1*M_ar)/(Ru*T_i)\n"
   ]
  },
  {
   "cell_type": "markdown",
   "id": "74ed9205",
   "metadata": {},
   "source": [
    "    Com o conhecimento da massa de ar estequiométrica, determinas-se a massa de combustível estequiométrica por:\n",
    "\n",
    "<img src=\"eqquim4.JPG\">\n",
    "\n",
    "    O coeficiente de perda de carga deve ser considerado para o cálculo da massa de ar real, esse coeficiente depende do curso da válvula de admissão e do diâmetro da mesma, e é dado por:\n",
    "    \n",
    "<img src=\"eqquim5.JPG\">\n",
    "\n",
    "    Finalmente, determina-se a massa de combustível real por:\n",
    "    \n",
    "<img src=\"eqquim6.JPG\">"
   ]
  },
  {
   "cell_type": "code",
   "execution_count": 16,
   "id": "7ae79da5",
   "metadata": {},
   "outputs": [],
   "source": [
    "m_cis = m_ars/AC_s\n",
    "S_v = 0.015 #valor igual ao do professor, serve apenas para rodar o modelo -> BUSCAR O REAL PARA O CG\n",
    "D_v = 0.042 #valor igual ao do professor, serve apenas para rodar o modelo -> BUSCAR O REAL PARA O CG\n",
    "Cd = 1 - 1.5*(S_v/D_v)\n",
    "m_arr = m_ars*Cd"
   ]
  },
  {
   "cell_type": "markdown",
   "id": "ada7af3c",
   "metadata": {},
   "source": [
    "    A razão de equivalência é uma medida da qualidade da combustão, caso a mesma seja menor que 1 tem-se uma combustão com excesso de ar, ou seja, uma mistura pobre, igual a 1 tem se uma mistura ideal, do ponto de vista químico, chamada de estequiométrica, se menor que 1 tem se uma mistura rica, com excesso de combustível. Tal razão é determinada por:\n",
    "    \n",
    "<img src=\"eqquim7.JPG\">\n",
    "\n",
    "    Pode se expressar a razão ar/combustível por:\n",
    "    \n",
    "<img src=\"eqquim8.JPG\">\n",
    "\n",
    "    Por fim, determina-se a massa real de combustível por meio de:\n",
    "\n",
    "<img src=\"eqquim9.JPG\">"
   ]
  },
  {
   "cell_type": "code",
   "execution_count": 17,
   "id": "f3dacb83",
   "metadata": {},
   "outputs": [],
   "source": [
    "phi = 1.1\n",
    "AC_r = (AC_s)/phi\n",
    "m_cir = (phi*m_arr)/AC_s"
   ]
  },
  {
   "cell_type": "markdown",
   "id": "503f4344",
   "metadata": {},
   "source": [
    "# A quantidade de calor inserido na combustão"
   ]
  },
  {
   "cell_type": "markdown",
   "id": "8b7e84fc",
   "metadata": {},
   "source": [
    "    A fração de energia térmica disponível no cilíndro em função da posição angular da manivela é definida por:\n",
    "    \n",
    "<img src=\"eqcombust1.JPG\">\n",
    "\n",
    "    Seu uso depende do poder calorífico do combustível. Para Martins(2012) o mesmo é de 42500 MJ/kg. Considera-se também a eficiência do motor de 33%, ou seja 0,33"
   ]
  },
  {
   "cell_type": "code",
   "execution_count": 18,
   "id": "a23e516a",
   "metadata": {},
   "outputs": [
    {
     "data": {
      "image/png": "[encoded data removed]",
      "text/plain": [
       "<Figure size 432x288 with 1 Axes>"
      ]
     },
     "metadata": {
      "needs_background": "light"
     },
     "output_type": "display_data"
    }
   ],
   "source": [
    "PCI = 42500\n",
    "neta_c = 0.33\n",
    "def eq3(a,b,c,d):\n",
    "    return a*b*c*d #onde a=mci_r,b=PCI,d= a derivada da liberação de calor, d= eficiencia \n",
    "\n",
    "Qcb_ponto = eq3(m_cir,PCI,xcb_ponto,neta_c)\n",
    "\n",
    "plot.figure()\n",
    "plot.plot(theta,Qcb_ponto)\n",
    "plot.show()\n"
   ]
  },
  {
   "cell_type": "markdown",
   "id": "f70b944c",
   "metadata": {},
   "source": [
    "# Volume em relação a theta "
   ]
  },
  {
   "cell_type": "markdown",
   "id": "9af9e59b",
   "metadata": {},
   "source": [
    "    O volume do pistão, em relação ao virabrequim é dado por:\n",
    "    \n",
    "<img src=\"eqvar1.JPG\">\n",
    "\n",
    "    em que:\n",
    "        Vd é o volume deslocado no interior do cilíndro\n",
    "        R= (2*l)/s \n",
    "        r é a taxa de compressão\n",
    "    \n",
    "    A derivada da equação acima é dada por:\n",
    "    \n",
    "<img src=\"eq7.JPG\">"
   ]
  },
  {
   "cell_type": "code",
   "execution_count": 47,
   "id": "d09607f7",
   "metadata": {},
   "outputs": [
    {
     "data": {
      "image/png": "[encoded data removed]",
      "text/plain": [
       "<Figure size 432x288 with 1 Axes>"
      ]
     },
     "metadata": {
      "needs_background": "light"
     },
     "output_type": "display_data"
    },
    {
     "data": {
      "image/png": "[encoded data removed]",
      "text/plain": [
       "<Figure size 432x288 with 1 Axes>"
      ]
     },
     "metadata": {
      "needs_background": "light"
     },
     "output_type": "display_data"
    }
   ],
   "source": [
    "Vd = ((m.pi*b**2)/4)*s\n",
    "R= (2*l)/s \n",
    "\n",
    "def Volume(a,b,c,d):\n",
    "    return (a/(b-1)) + (a/2)*(c + 1 - np.cos(d) - (c**2 - np.sin(d)**2)**(-0.5))\n",
    "\n",
    "V_theta = Volume(Vd,r,R,theta)\n",
    "\n",
    "def D_Volume(a,b,c,d):\n",
    "    return (a/2)*np.sin(d)*(1 + np.cos(d)*(R**2 - np.sin(d)**2)**(-0.5))\n",
    "\n",
    "dV_theta = D_Volume(Vd,r,R,theta)\n",
    "\n",
    "plot.figure()\n",
    "plot.plot(theta,V_theta)\n",
    "plot.show()\n",
    "\n",
    "plot.figure()\n",
    "plot.plot(theta,dV_theta)\n",
    "plot.show()"
   ]
  },
  {
   "cell_type": "markdown",
   "id": "eb2af41e",
   "metadata": {},
   "source": [
    "# Pressão em relação a theta "
   ]
  },
  {
   "cell_type": "markdown",
   "id": "9d78498f",
   "metadata": {},
   "source": [
    "    A equação da taxa de variação de pressão em relação a theta é dada por:\n",
    "  \n",
    "<img src=\"eq8.JPG\">\n",
    "\n",
    "    A referida equação trás a concepção de que a razão dos calores específicos é constante, o que, realmente, não é verdade. No entanto, um modelo mais realista exigiria cosniderar efeitos químicos da combustão que estão aquem do que um estudante de graduação ver em sala, no entanto fica como sugestão para futuros membros perderem a cabeça desenrrolando essa parada aí."
   ]
  },
  {
   "cell_type": "code",
   "execution_count": 49,
   "id": "f55c20ea",
   "metadata": {},
   "outputs": [
    {
     "data": {
      "image/png": "[encoded data removed]",
      "text/plain": [
       "<Figure size 432x288 with 1 Axes>"
      ]
     },
     "metadata": {
      "needs_background": "light"
     },
     "output_type": "display_data"
    }
   ],
   "source": [
    "dP_theta = -gamma*(1/Vd)*dV_theta + ((gamma-1)/Vd)*xcb_ponto\n",
    "\n",
    "plot.figure()\n",
    "plot.plot(theta,dP_theta)\n",
    "plot.show()"
   ]
  },
  {
   "cell_type": "code",
   "execution_count": 53,
   "id": "234ce515",
   "metadata": {},
   "outputs": [
    {
     "ename": "ValueError",
     "evalue": "The truth value of an array with more than one element is ambiguous. Use a.any() or a.all()",
     "output_type": "error",
     "traceback": [
      "\u001b[1;31m---------------------------------------------------------------------------\u001b[0m",
      "\u001b[1;31mValueError\u001b[0m                                Traceback (most recent call last)",
      "\u001b[1;32m~\\AppData\\Local\\Temp/ipykernel_10116/943357480.py\u001b[0m in \u001b[0;36m<module>\u001b[1;34m\u001b[0m\n\u001b[1;32m----> 1\u001b[1;33m \u001b[0mP\u001b[0m \u001b[1;33m=\u001b[0m \u001b[0mrk4\u001b[0m\u001b[1;33m(\u001b[0m\u001b[1;33m-\u001b[0m\u001b[1;36m180\u001b[0m\u001b[1;33m,\u001b[0m\u001b[0mtheta\u001b[0m\u001b[1;33m,\u001b[0m\u001b[1;36m0.1\u001b[0m\u001b[1;33m,\u001b[0m\u001b[1;36m1\u001b[0m\u001b[1;33m,\u001b[0m\u001b[0mdP_theta\u001b[0m\u001b[1;33m)\u001b[0m\u001b[1;33m\u001b[0m\u001b[1;33m\u001b[0m\u001b[0m\n\u001b[0m",
      "\u001b[1;32m~\\AppData\\Local\\Temp/ipykernel_10116/2895410858.py\u001b[0m in \u001b[0;36mrk4\u001b[1;34m(a, b, h, y0, g)\u001b[0m\n\u001b[0;32m      5\u001b[0m \u001b[1;32mdef\u001b[0m \u001b[0mrk4\u001b[0m\u001b[1;33m(\u001b[0m\u001b[0ma\u001b[0m\u001b[1;33m,\u001b[0m\u001b[0mb\u001b[0m\u001b[1;33m,\u001b[0m\u001b[0mh\u001b[0m\u001b[1;33m,\u001b[0m\u001b[0my0\u001b[0m\u001b[1;33m,\u001b[0m\u001b[0mg\u001b[0m\u001b[1;33m)\u001b[0m\u001b[1;33m:\u001b[0m\u001b[1;33m\u001b[0m\u001b[1;33m\u001b[0m\u001b[0m\n\u001b[0;32m      6\u001b[0m     \u001b[0mx\u001b[0m \u001b[1;33m=\u001b[0m \u001b[1;33m[\u001b[0m\u001b[1;33m]\u001b[0m\u001b[1;33m\u001b[0m\u001b[1;33m\u001b[0m\u001b[0m\n\u001b[1;32m----> 7\u001b[1;33m     \u001b[1;32mfor\u001b[0m \u001b[0mi\u001b[0m \u001b[1;32min\u001b[0m \u001b[0mnp\u001b[0m\u001b[1;33m.\u001b[0m\u001b[0marange\u001b[0m\u001b[1;33m(\u001b[0m\u001b[0ma\u001b[0m\u001b[1;33m,\u001b[0m\u001b[0mb\u001b[0m\u001b[1;33m,\u001b[0m\u001b[0mh\u001b[0m\u001b[1;33m)\u001b[0m\u001b[1;33m:\u001b[0m\u001b[1;33m\u001b[0m\u001b[1;33m\u001b[0m\u001b[0m\n\u001b[0m\u001b[0;32m      8\u001b[0m         \u001b[0mx\u001b[0m\u001b[1;33m.\u001b[0m\u001b[0mappend\u001b[0m\u001b[1;33m(\u001b[0m\u001b[0mi\u001b[0m\u001b[1;33m)\u001b[0m\u001b[1;33m\u001b[0m\u001b[1;33m\u001b[0m\u001b[0m\n\u001b[0;32m      9\u001b[0m         \u001b[0mn\u001b[0m \u001b[1;33m=\u001b[0m \u001b[0mlen\u001b[0m\u001b[1;33m(\u001b[0m\u001b[0mx\u001b[0m\u001b[1;33m)\u001b[0m\u001b[1;33m\u001b[0m\u001b[1;33m\u001b[0m\u001b[0m\n",
      "\u001b[1;31mValueError\u001b[0m: The truth value of an array with more than one element is ambiguous. Use a.any() or a.all()"
     ]
    }
   ],
   "source": [
    "P = rk4(-180,theta,0.1,1,dP_theta)"
   ]
  },
  {
   "cell_type": "code",
   "execution_count": null,
   "id": "252e6bd9",
   "metadata": {},
   "outputs": [],
   "source": []
  }
 ],
 "metadata": {
  "kernelspec": {
   "display_name": "Python 3 (ipykernel)",
   "language": "python",
   "name": "python3"
  },
  "language_info": {
   "codemirror_mode": {
    "name": "ipython",
    "version": 3
   },
   "file_extension": ".py",
   "mimetype": "text/x-python",
   "name": "python",
   "nbconvert_exporter": "python",
   "pygments_lexer": "ipython3",
   "version": "3.9.7"
  }
 },
 "nbformat": 4,
 "nbformat_minor": 5
}
