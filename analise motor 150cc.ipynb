{
 "cells": [
  {
   "cell_type": "markdown",
   "id": "376ebc43",
   "metadata": {},
   "source": [
    "# ANÁLISE DE ACELERAÇÃO PARA UM VEÍCULO DE FÓRMULA SAE COM UM MOTOR DE 150CC"
   ]
  },
  {
   "cell_type": "markdown",
   "id": "faa69d5e",
   "metadata": {},
   "source": [
    "# 1.INTRODUÇÃO"
   ]
  },
  {
   "cell_type": "markdown",
   "id": "4a94f477",
   "metadata": {},
   "source": [
    "      A máxima perfomrace de aceleração longitudinal de um motor é determinada por dois limites: A potência do motor e o limite de tração das rodas motrizes. A prevalência de um ou outro limite é função da velocidade do veículo. Em baixas velocidades, o limite de tração das rodas possui maior relevância, enquanto em velocidades maiores o limite de potência do motor prevalece. O limite de resistência pelas rodas motrizes exige uma análise mais global das forças atuantes no veículo, como as forças de atrito, arrasto e etc. A importância de tal análise se da mediante ao fato de que, dado um contexto de competição e de projeto de engenharia, uma análise analítica bem efetuada é fator determinante na tomada de decisões, ainda mais quando meios empíricos necessecitam de recursos financeiros aos quais a equipe não dispões aos montes. Além do dito exposto, ao analisar as equipes que participaram das competições passadas nota-se que, nenhuma delas usou um motor com menos de 250cc, logo informações enquanto aceleração desses veículos que, viabilizariam a construção do refererido protótipo não são disponíveis, o que reforça a necessidade de predizer a performace de aceleração. \n",
    "      O presente notebook, a priore, reterá suas atenções na análise do limite trativo mediante a potência do motor, uma vez que a deteminação deste está intimamente ligada ao motor em si e ao sistema de transmissão do veículo, que é o foco do subssistema. Uma análise da tração como um todo será posteriormente determinada quando se obtiver parâmetros dos demais subssistemas. "
   ]
  },
  {
   "cell_type": "markdown",
   "id": "c33d79ce",
   "metadata": {},
   "source": [
    "# 2.LIMITE DE ACELERAÇÃO DO MOTOR"
   ]
  },
  {
   "cell_type": "markdown",
   "id": "6ab5e048",
   "metadata": {},
   "source": [
    "    A análise da limitação da aceleração do motor envolve o exame de suas características e suas interações com o trem de força. Os motores são caracterizados pelas suas curvas de torque e potência em função da velocidade. Torque e potência se relacionam com a velocidade por:"
   ]
  },
  {
   "cell_type": "markdown",
   "id": "817456f6",
   "metadata": {},
   "source": [
    "<img src=\"eq1.jpg\">"
   ]
  },
  {
   "cell_type": "markdown",
   "id": "06f89504",
   "metadata": {},
   "source": [
    "    Onde T representa o torque em Nm e omega a  velocidade angular em rad/s\n",
    "    \n",
    "    A relação entre a potência e o peso do veículo é o determinante de 1ª ordem da performace de aceleração. De pequenas a médias velocidades e limites superiores a aceleração pode ser determinada aplicando-se a segunda lei de Newton:\n",
    "    \n",
    "<img src=\"eq2.jpg\">"
   ]
  },
  {
   "cell_type": "markdown",
   "id": "bfe4c44a",
   "metadata": {},
   "source": [
    "Uma vez que a potÊncia de acionamento é o produto da força pela velocidade longitudinal, temos:\n",
    "    \n",
    "<img src=\"eq3.jpg\">"
   ]
  },
  {
   "cell_type": "markdown",
   "id": "6f8ac204",
   "metadata": {},
   "source": [
    "    Onde:\n",
    "         g é a aceleração da gravidade\n",
    "         V é a velocidade de avanço(ft/sec)\n",
    "         HP é a potência do motor\n",
    "         W é o peso"
   ]
  },
  {
   "cell_type": "markdown",
   "id": "a4ffd031",
   "metadata": {},
   "source": [
    "    Para realizar a análise de tração mediante a limitação do motor, deve se analisar cada componente interno e externo que se opõe ao movimento do mesmo. A seguinte figura ilustra o trem de força de um veículo padrão:\n",
    "    \n",
    "                     FIGURA 1-Elementos primários de trem de força, fonte: Gillespie(pág 24)\n",
    "<img src=\"fig1.jpg\">"
   ]
  },
  {
   "cell_type": "markdown",
   "id": "e016a17b",
   "metadata": {},
   "source": [
    "    Evidentemente que, na concepção de um protótipo de formula SAE o eixo cardã(representado na figura como \"driveshaft\") será substituido por transmissão por correntes.\n",
    "    Na figura nota-se que: a potência gerada no motor será transmitida pelos elementos em questão, onde cada um deles criará resistência a transmissão de força do motor, algo que pode-se analísar facilmente pela segunda lei de Newton anteriormente apresentada. Para um movimento linear a massa será a resistência e para o rotativo o momento de inércia. Dito isto, o modelo de aceleração por limitação do motor consiste em quantificar a perda por cada um desses elementos, sejam lineares ou rotativos.\n",
    "    Partindo do motor, deve-se lembrar que o torque deve ser medido em regime constante por um dinamômetro, portanto, o torque real entregue ao trem de força é reduzido na quantidade necessária para acelerar a inércia dos componentes rotativos. O torque entregue aravés da embreagem como entrada para a transmissão pode ser determinado por:\n",
    "    \n",
    "<img src=\"eq4.jpg\">"
   ]
  },
  {
   "cell_type": "markdown",
   "id": "b6a43b6e",
   "metadata": {},
   "source": [
    "    Em que : \n",
    "        Tc é o torque na embreagem\n",
    "        Te é o torque do motor\n",
    "        Ie é o momento de inércia equivalente dos elementos internos do motor\n",
    "        e alfa é a aceleração de rotação do motor"
   ]
  },
  {
   "cell_type": "markdown",
   "id": "da884428",
   "metadata": {},
   "source": [
    "    O torque entregue na saída da transmissão é amplificado pela relação de ransmissão, mas é diminuido por perdas inérciais nas engrenagens e eixos. O torque de saída da transmissão pode ser determinado por:\n",
    "    \n",
    "<img src=\"eq5.jpg\">"
   ]
  },
  {
   "cell_type": "markdown",
   "id": "6269e253",
   "metadata": {},
   "source": [
    "    Em que:\n",
    "        Td é o torque de saída da transmissão\n",
    "        Nt razão de engrenamento de cada marcha\n",
    "        It momento de inércia de rotação da transmissão\n",
    "        \n",
    "         "
   ]
  },
  {
   "cell_type": "markdown",
   "id": "a6971792",
   "metadata": {},
   "source": [
    "    Da mesma forma, o torque entregue aos eixos para acelerar as rodas giratórias e fornecer força de tração no solo é amplificado pela relação de acionamento com algumas reduções causadas por perdas inérciais, que no contexto do protótipo, são causadas pelas rodas dentadas da transmissão pro corrente. A quantificação do torque fornecido no eixo final (axle shaft) ad transmissão é dado pela seguinte equação:\n",
    "    \n",
    "<img src=\"eq6.jpg\">"
   ]
  },
  {
   "cell_type": "markdown",
   "id": "65bbeee6",
   "metadata": {},
   "source": [
    "    Em que:\n",
    "        Fx é a força trativa com o solo\n",
    "        r é o raio das rodas\n",
    "        Iw é a inércia de rotação das rodas e do semi-eixo\n",
    "        alphaw é a aceleração angular das rodas\n",
    "        Id é a inércia rotacional do driveshaft\n",
    "        Nf relação númerica da transmissão final\n",
    "       "
   ]
  },
  {
   "cell_type": "markdown",
   "id": "7fbfc988",
   "metadata": {},
   "source": [
    "    As acelerações rotacionais do motor, transmissão e linha de transmissão são relacionadas por:\n",
    "    \n",
    "<img src=\"eqs789.jpg\">"
   ]
  },
  {
   "cell_type": "markdown",
   "id": "09ca0723",
   "metadata": {},
   "source": [
    "    Das equações anteriores e adicionando o conceito de \"combinação de eficiência de transmissão final\" que, de acordo com Gillespie(algum ano aí) está entre 80 a 90% determina-se, enfim, a equação que relaciona a força trativa limitada pelo motor.\n",
    "    \n",
    "<img src=\"eq10.jpg\">"
   ]
  },
  {
   "cell_type": "markdown",
   "id": "93e45f0e",
   "metadata": {},
   "source": [
    "       O prmeiro termo do lado direito é o torque do motor multiplicado pela relação de transmissão geral e eficiência do sistema de acionamento dividido pelo raio do pneu. Este termo representa a força de tração em estado estacionário disponível no solo para superar as forças de carga da estrada, forças aerodinâmicas e de resistência ao rolamento, acelerar ou subir um declive.\n",
    "       O segundo termo do lado direito representa a perda de força de tração devido a inércia dos componentes do motor e do trem de força. O termo entre parênteses representa a inércia equivalente de cada componente"
   ]
  },
  {
   "cell_type": "code",
   "execution_count": null,
   "id": "196316eb",
   "metadata": {},
   "outputs": [],
   "source": []
  }
 ],
 "metadata": {
  "kernelspec": {
   "display_name": "Python 3 (ipykernel)",
   "language": "python",
   "name": "python3"
  },
  "language_info": {
   "codemirror_mode": {
    "name": "ipython",
    "version": 3
   },
   "file_extension": ".py",
   "mimetype": "text/x-python",
   "name": "python",
   "nbconvert_exporter": "python",
   "pygments_lexer": "ipython3",
   "version": "3.9.7"
  }
 },
 "nbformat": 4,
 "nbformat_minor": 5
}
